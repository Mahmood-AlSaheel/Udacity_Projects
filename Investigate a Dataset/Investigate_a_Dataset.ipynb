{
 "cells": [
  {
   "cell_type": "markdown",
   "metadata": {
    "tags": []
   },
   "source": [
    "> **Tip**: Welcome to the Investigate a Dataset project! You will find tips in quoted sections like this to help organize your approach to your investigation. Once you complete this project, remove these **Tip** sections from your report before submission. First things first, you might want to double-click this Markdown cell and change the title so that it reflects your dataset and investigation.\n",
    "\n",
    "# Project: Investigate a Dataset - [tmdb-movies]\n",
    "\n",
    "## Table of Contents\n",
    "<ul>\n",
    "<li><a href=\"#intro\">Introduction</a></li>\n",
    "<li><a href=\"#wrangling\">Data Wrangling</a></li>\n",
    "<li><a href=\"#eda\">Exploratory Data Analysis</a></li>\n",
    "<li><a href=\"#conclusions\">Conclusions</a></li>\n",
    "</ul>"
   ]
  },
  {
   "cell_type": "markdown",
   "metadata": {},
   "source": [
    "<a id='intro'></a>\n",
    "## Introduction\n",
    "\n",
    "### Dataset Description \n",
    "\n",
    "> **Tip**: In this section of the report, provide a brief introduction to the dataset you've selected/downloaded for analysis. Read through the description available on the `Project Details` page of `Investigate a Dataset` lesson for this course. List all column names in each table, and their significance. In case of multiple tables, describe the relationship between tables. \n",
    "\n",
    "\n",
    "### Question(s) for Analysis\n",
    ">**Tip**: Clearly state one or more questions that you plan on exploring over the course of the report. You will address these questions in the **data analysis** and **conclusion** sections. Try to build your report around the analysis of at least one dependent variable and three independent variables. If you're not sure what questions to ask, then make sure you familiarize yourself with the dataset, its variables and the dataset context for ideas of what to explore.\n",
    "\n",
    "> **Tip**: Once you start coding, use NumPy arrays, Pandas Series, and DataFrames where appropriate rather than Python lists and dictionaries. Also, **use good coding practices**, such as, define and use functions to avoid repetitive code. Use appropriate comments within the code cells, explanation in the mark-down cells, and meaningful variable names. "
   ]
  },
  {
   "cell_type": "markdown",
   "metadata": {},
   "source": [
    "### import pandas and numpy"
   ]
  },
  {
   "cell_type": "code",
   "execution_count": 1,
   "metadata": {
    "tags": []
   },
   "outputs": [],
   "source": [
    "# Use this cell to set up import statements for all of the packages that you\n",
    "import pandas as pd\n",
    "import numpy as np\n"
   ]
  },
  {
   "cell_type": "markdown",
   "metadata": {},
   "source": [
    "<a id='wrangling'></a>\n",
    "## Data Wrangling\n",
    "\n",
    "> **Tip**: In this section of the report, you will load in the data, check for cleanliness, and then trim and clean your dataset for analysis. Make sure that you **document your data cleaning steps in mark-down cells precisely and justify your cleaning decisions.**\n",
    "\n",
    "\n",
    "### General Properties\n",
    "> **Tip**: You should _not_ perform too many operations in each cell. Create cells freely to explore your data. One option that you can take with this project is to do a lot of explorations initially. This does not have to be organized, but make sure you use enough comments to understand the purpose of each code cell. Then, after you're done with your analysis, trim the excess and organize your steps so that you have a flowing, cohesive report."
   ]
  },
  {
   "cell_type": "markdown",
   "metadata": {},
   "source": [
    "### loading the dataset:"
   ]
  },
  {
   "cell_type": "code",
   "execution_count": 2,
   "metadata": {
    "scrolled": true,
    "tags": []
   },
   "outputs": [
    {
     "data": {
      "text/html": [
       "<div>\n",
       "<style scoped>\n",
       "    .dataframe tbody tr th:only-of-type {\n",
       "        vertical-align: middle;\n",
       "    }\n",
       "\n",
       "    .dataframe tbody tr th {\n",
       "        vertical-align: top;\n",
       "    }\n",
       "\n",
       "    .dataframe thead th {\n",
       "        text-align: right;\n",
       "    }\n",
       "</style>\n",
       "<table border=\"1\" class=\"dataframe\">\n",
       "  <thead>\n",
       "    <tr style=\"text-align: right;\">\n",
       "      <th></th>\n",
       "      <th>id</th>\n",
       "      <th>imdb_id</th>\n",
       "      <th>popularity</th>\n",
       "      <th>budget</th>\n",
       "      <th>revenue</th>\n",
       "      <th>original_title</th>\n",
       "      <th>cast</th>\n",
       "      <th>homepage</th>\n",
       "      <th>director</th>\n",
       "      <th>tagline</th>\n",
       "      <th>...</th>\n",
       "      <th>overview</th>\n",
       "      <th>runtime</th>\n",
       "      <th>genres</th>\n",
       "      <th>production_companies</th>\n",
       "      <th>release_date</th>\n",
       "      <th>vote_count</th>\n",
       "      <th>vote_average</th>\n",
       "      <th>release_year</th>\n",
       "      <th>budget_adj</th>\n",
       "      <th>revenue_adj</th>\n",
       "    </tr>\n",
       "  </thead>\n",
       "  <tbody>\n",
       "    <tr>\n",
       "      <th>0</th>\n",
       "      <td>135397</td>\n",
       "      <td>tt0369610</td>\n",
       "      <td>32.985763</td>\n",
       "      <td>150000000</td>\n",
       "      <td>1513528810</td>\n",
       "      <td>Jurassic World</td>\n",
       "      <td>Chris Pratt|Bryce Dallas Howard|Irrfan Khan|Vi...</td>\n",
       "      <td>http://www.jurassicworld.com/</td>\n",
       "      <td>Colin Trevorrow</td>\n",
       "      <td>The park is open.</td>\n",
       "      <td>...</td>\n",
       "      <td>Twenty-two years after the events of Jurassic ...</td>\n",
       "      <td>124</td>\n",
       "      <td>Action|Adventure|Science Fiction|Thriller</td>\n",
       "      <td>Universal Studios|Amblin Entertainment|Legenda...</td>\n",
       "      <td>6/9/15</td>\n",
       "      <td>5562</td>\n",
       "      <td>6.5</td>\n",
       "      <td>2015</td>\n",
       "      <td>1.379999e+08</td>\n",
       "      <td>1.392446e+09</td>\n",
       "    </tr>\n",
       "    <tr>\n",
       "      <th>1</th>\n",
       "      <td>76341</td>\n",
       "      <td>tt1392190</td>\n",
       "      <td>28.419936</td>\n",
       "      <td>150000000</td>\n",
       "      <td>378436354</td>\n",
       "      <td>Mad Max: Fury Road</td>\n",
       "      <td>Tom Hardy|Charlize Theron|Hugh Keays-Byrne|Nic...</td>\n",
       "      <td>http://www.madmaxmovie.com/</td>\n",
       "      <td>George Miller</td>\n",
       "      <td>What a Lovely Day.</td>\n",
       "      <td>...</td>\n",
       "      <td>An apocalyptic story set in the furthest reach...</td>\n",
       "      <td>120</td>\n",
       "      <td>Action|Adventure|Science Fiction|Thriller</td>\n",
       "      <td>Village Roadshow Pictures|Kennedy Miller Produ...</td>\n",
       "      <td>5/13/15</td>\n",
       "      <td>6185</td>\n",
       "      <td>7.1</td>\n",
       "      <td>2015</td>\n",
       "      <td>1.379999e+08</td>\n",
       "      <td>3.481613e+08</td>\n",
       "    </tr>\n",
       "    <tr>\n",
       "      <th>2</th>\n",
       "      <td>262500</td>\n",
       "      <td>tt2908446</td>\n",
       "      <td>13.112507</td>\n",
       "      <td>110000000</td>\n",
       "      <td>295238201</td>\n",
       "      <td>Insurgent</td>\n",
       "      <td>Shailene Woodley|Theo James|Kate Winslet|Ansel...</td>\n",
       "      <td>http://www.thedivergentseries.movie/#insurgent</td>\n",
       "      <td>Robert Schwentke</td>\n",
       "      <td>One Choice Can Destroy You</td>\n",
       "      <td>...</td>\n",
       "      <td>Beatrice Prior must confront her inner demons ...</td>\n",
       "      <td>119</td>\n",
       "      <td>Adventure|Science Fiction|Thriller</td>\n",
       "      <td>Summit Entertainment|Mandeville Films|Red Wago...</td>\n",
       "      <td>3/18/15</td>\n",
       "      <td>2480</td>\n",
       "      <td>6.3</td>\n",
       "      <td>2015</td>\n",
       "      <td>1.012000e+08</td>\n",
       "      <td>2.716190e+08</td>\n",
       "    </tr>\n",
       "    <tr>\n",
       "      <th>3</th>\n",
       "      <td>140607</td>\n",
       "      <td>tt2488496</td>\n",
       "      <td>11.173104</td>\n",
       "      <td>200000000</td>\n",
       "      <td>2068178225</td>\n",
       "      <td>Star Wars: The Force Awakens</td>\n",
       "      <td>Harrison Ford|Mark Hamill|Carrie Fisher|Adam D...</td>\n",
       "      <td>http://www.starwars.com/films/star-wars-episod...</td>\n",
       "      <td>J.J. Abrams</td>\n",
       "      <td>Every generation has a story.</td>\n",
       "      <td>...</td>\n",
       "      <td>Thirty years after defeating the Galactic Empi...</td>\n",
       "      <td>136</td>\n",
       "      <td>Action|Adventure|Science Fiction|Fantasy</td>\n",
       "      <td>Lucasfilm|Truenorth Productions|Bad Robot</td>\n",
       "      <td>12/15/15</td>\n",
       "      <td>5292</td>\n",
       "      <td>7.5</td>\n",
       "      <td>2015</td>\n",
       "      <td>1.839999e+08</td>\n",
       "      <td>1.902723e+09</td>\n",
       "    </tr>\n",
       "    <tr>\n",
       "      <th>4</th>\n",
       "      <td>168259</td>\n",
       "      <td>tt2820852</td>\n",
       "      <td>9.335014</td>\n",
       "      <td>190000000</td>\n",
       "      <td>1506249360</td>\n",
       "      <td>Furious 7</td>\n",
       "      <td>Vin Diesel|Paul Walker|Jason Statham|Michelle ...</td>\n",
       "      <td>http://www.furious7.com/</td>\n",
       "      <td>James Wan</td>\n",
       "      <td>Vengeance Hits Home</td>\n",
       "      <td>...</td>\n",
       "      <td>Deckard Shaw seeks revenge against Dominic Tor...</td>\n",
       "      <td>137</td>\n",
       "      <td>Action|Crime|Thriller</td>\n",
       "      <td>Universal Pictures|Original Film|Media Rights ...</td>\n",
       "      <td>4/1/15</td>\n",
       "      <td>2947</td>\n",
       "      <td>7.3</td>\n",
       "      <td>2015</td>\n",
       "      <td>1.747999e+08</td>\n",
       "      <td>1.385749e+09</td>\n",
       "    </tr>\n",
       "  </tbody>\n",
       "</table>\n",
       "<p>5 rows × 21 columns</p>\n",
       "</div>"
      ],
      "text/plain": [
       "       id    imdb_id  popularity     budget     revenue  \\\n",
       "0  135397  tt0369610   32.985763  150000000  1513528810   \n",
       "1   76341  tt1392190   28.419936  150000000   378436354   \n",
       "2  262500  tt2908446   13.112507  110000000   295238201   \n",
       "3  140607  tt2488496   11.173104  200000000  2068178225   \n",
       "4  168259  tt2820852    9.335014  190000000  1506249360   \n",
       "\n",
       "                 original_title  \\\n",
       "0                Jurassic World   \n",
       "1            Mad Max: Fury Road   \n",
       "2                     Insurgent   \n",
       "3  Star Wars: The Force Awakens   \n",
       "4                     Furious 7   \n",
       "\n",
       "                                                cast  \\\n",
       "0  Chris Pratt|Bryce Dallas Howard|Irrfan Khan|Vi...   \n",
       "1  Tom Hardy|Charlize Theron|Hugh Keays-Byrne|Nic...   \n",
       "2  Shailene Woodley|Theo James|Kate Winslet|Ansel...   \n",
       "3  Harrison Ford|Mark Hamill|Carrie Fisher|Adam D...   \n",
       "4  Vin Diesel|Paul Walker|Jason Statham|Michelle ...   \n",
       "\n",
       "                                            homepage          director  \\\n",
       "0                      http://www.jurassicworld.com/   Colin Trevorrow   \n",
       "1                        http://www.madmaxmovie.com/     George Miller   \n",
       "2     http://www.thedivergentseries.movie/#insurgent  Robert Schwentke   \n",
       "3  http://www.starwars.com/films/star-wars-episod...       J.J. Abrams   \n",
       "4                           http://www.furious7.com/         James Wan   \n",
       "\n",
       "                         tagline  ...  \\\n",
       "0              The park is open.  ...   \n",
       "1             What a Lovely Day.  ...   \n",
       "2     One Choice Can Destroy You  ...   \n",
       "3  Every generation has a story.  ...   \n",
       "4            Vengeance Hits Home  ...   \n",
       "\n",
       "                                            overview runtime  \\\n",
       "0  Twenty-two years after the events of Jurassic ...     124   \n",
       "1  An apocalyptic story set in the furthest reach...     120   \n",
       "2  Beatrice Prior must confront her inner demons ...     119   \n",
       "3  Thirty years after defeating the Galactic Empi...     136   \n",
       "4  Deckard Shaw seeks revenge against Dominic Tor...     137   \n",
       "\n",
       "                                      genres  \\\n",
       "0  Action|Adventure|Science Fiction|Thriller   \n",
       "1  Action|Adventure|Science Fiction|Thriller   \n",
       "2         Adventure|Science Fiction|Thriller   \n",
       "3   Action|Adventure|Science Fiction|Fantasy   \n",
       "4                      Action|Crime|Thriller   \n",
       "\n",
       "                                production_companies release_date vote_count  \\\n",
       "0  Universal Studios|Amblin Entertainment|Legenda...       6/9/15       5562   \n",
       "1  Village Roadshow Pictures|Kennedy Miller Produ...      5/13/15       6185   \n",
       "2  Summit Entertainment|Mandeville Films|Red Wago...      3/18/15       2480   \n",
       "3          Lucasfilm|Truenorth Productions|Bad Robot     12/15/15       5292   \n",
       "4  Universal Pictures|Original Film|Media Rights ...       4/1/15       2947   \n",
       "\n",
       "   vote_average  release_year    budget_adj   revenue_adj  \n",
       "0           6.5          2015  1.379999e+08  1.392446e+09  \n",
       "1           7.1          2015  1.379999e+08  3.481613e+08  \n",
       "2           6.3          2015  1.012000e+08  2.716190e+08  \n",
       "3           7.5          2015  1.839999e+08  1.902723e+09  \n",
       "4           7.3          2015  1.747999e+08  1.385749e+09  \n",
       "\n",
       "[5 rows x 21 columns]"
      ]
     },
     "execution_count": 2,
     "metadata": {},
     "output_type": "execute_result"
    }
   ],
   "source": [
    "df_mov=pd.read_csv(\"tmdb-movies.csv\")\n",
    "df_mov.head()\n"
   ]
  },
  {
   "cell_type": "markdown",
   "metadata": {},
   "source": [
    "### Shape of the dataset\n"
   ]
  },
  {
   "cell_type": "code",
   "execution_count": 3,
   "metadata": {},
   "outputs": [
    {
     "data": {
      "text/plain": [
       "(10866, 21)"
      ]
     },
     "execution_count": 3,
     "metadata": {},
     "output_type": "execute_result"
    }
   ],
   "source": [
    "df_mov.shape"
   ]
  },
  {
   "cell_type": "markdown",
   "metadata": {},
   "source": [
    "## Statistics of the dataset\n"
   ]
  },
  {
   "cell_type": "code",
   "execution_count": 4,
   "metadata": {},
   "outputs": [
    {
     "data": {
      "text/html": [
       "<div>\n",
       "<style scoped>\n",
       "    .dataframe tbody tr th:only-of-type {\n",
       "        vertical-align: middle;\n",
       "    }\n",
       "\n",
       "    .dataframe tbody tr th {\n",
       "        vertical-align: top;\n",
       "    }\n",
       "\n",
       "    .dataframe thead th {\n",
       "        text-align: right;\n",
       "    }\n",
       "</style>\n",
       "<table border=\"1\" class=\"dataframe\">\n",
       "  <thead>\n",
       "    <tr style=\"text-align: right;\">\n",
       "      <th></th>\n",
       "      <th>id</th>\n",
       "      <th>popularity</th>\n",
       "      <th>budget</th>\n",
       "      <th>revenue</th>\n",
       "      <th>runtime</th>\n",
       "      <th>vote_count</th>\n",
       "      <th>vote_average</th>\n",
       "      <th>release_year</th>\n",
       "      <th>budget_adj</th>\n",
       "      <th>revenue_adj</th>\n",
       "    </tr>\n",
       "  </thead>\n",
       "  <tbody>\n",
       "    <tr>\n",
       "      <th>count</th>\n",
       "      <td>10866.000000</td>\n",
       "      <td>10866.000000</td>\n",
       "      <td>1.086600e+04</td>\n",
       "      <td>1.086600e+04</td>\n",
       "      <td>10866.000000</td>\n",
       "      <td>10866.000000</td>\n",
       "      <td>10866.000000</td>\n",
       "      <td>10866.000000</td>\n",
       "      <td>1.086600e+04</td>\n",
       "      <td>1.086600e+04</td>\n",
       "    </tr>\n",
       "    <tr>\n",
       "      <th>mean</th>\n",
       "      <td>66064.177434</td>\n",
       "      <td>0.646441</td>\n",
       "      <td>1.462570e+07</td>\n",
       "      <td>3.982332e+07</td>\n",
       "      <td>102.070863</td>\n",
       "      <td>217.389748</td>\n",
       "      <td>5.974922</td>\n",
       "      <td>2001.322658</td>\n",
       "      <td>1.755104e+07</td>\n",
       "      <td>5.136436e+07</td>\n",
       "    </tr>\n",
       "    <tr>\n",
       "      <th>std</th>\n",
       "      <td>92130.136561</td>\n",
       "      <td>1.000185</td>\n",
       "      <td>3.091321e+07</td>\n",
       "      <td>1.170035e+08</td>\n",
       "      <td>31.381405</td>\n",
       "      <td>575.619058</td>\n",
       "      <td>0.935142</td>\n",
       "      <td>12.812941</td>\n",
       "      <td>3.430616e+07</td>\n",
       "      <td>1.446325e+08</td>\n",
       "    </tr>\n",
       "    <tr>\n",
       "      <th>min</th>\n",
       "      <td>5.000000</td>\n",
       "      <td>0.000065</td>\n",
       "      <td>0.000000e+00</td>\n",
       "      <td>0.000000e+00</td>\n",
       "      <td>0.000000</td>\n",
       "      <td>10.000000</td>\n",
       "      <td>1.500000</td>\n",
       "      <td>1960.000000</td>\n",
       "      <td>0.000000e+00</td>\n",
       "      <td>0.000000e+00</td>\n",
       "    </tr>\n",
       "    <tr>\n",
       "      <th>25%</th>\n",
       "      <td>10596.250000</td>\n",
       "      <td>0.207583</td>\n",
       "      <td>0.000000e+00</td>\n",
       "      <td>0.000000e+00</td>\n",
       "      <td>90.000000</td>\n",
       "      <td>17.000000</td>\n",
       "      <td>5.400000</td>\n",
       "      <td>1995.000000</td>\n",
       "      <td>0.000000e+00</td>\n",
       "      <td>0.000000e+00</td>\n",
       "    </tr>\n",
       "    <tr>\n",
       "      <th>50%</th>\n",
       "      <td>20669.000000</td>\n",
       "      <td>0.383856</td>\n",
       "      <td>0.000000e+00</td>\n",
       "      <td>0.000000e+00</td>\n",
       "      <td>99.000000</td>\n",
       "      <td>38.000000</td>\n",
       "      <td>6.000000</td>\n",
       "      <td>2006.000000</td>\n",
       "      <td>0.000000e+00</td>\n",
       "      <td>0.000000e+00</td>\n",
       "    </tr>\n",
       "    <tr>\n",
       "      <th>75%</th>\n",
       "      <td>75610.000000</td>\n",
       "      <td>0.713817</td>\n",
       "      <td>1.500000e+07</td>\n",
       "      <td>2.400000e+07</td>\n",
       "      <td>111.000000</td>\n",
       "      <td>145.750000</td>\n",
       "      <td>6.600000</td>\n",
       "      <td>2011.000000</td>\n",
       "      <td>2.085325e+07</td>\n",
       "      <td>3.369710e+07</td>\n",
       "    </tr>\n",
       "    <tr>\n",
       "      <th>max</th>\n",
       "      <td>417859.000000</td>\n",
       "      <td>32.985763</td>\n",
       "      <td>4.250000e+08</td>\n",
       "      <td>2.781506e+09</td>\n",
       "      <td>900.000000</td>\n",
       "      <td>9767.000000</td>\n",
       "      <td>9.200000</td>\n",
       "      <td>2015.000000</td>\n",
       "      <td>4.250000e+08</td>\n",
       "      <td>2.827124e+09</td>\n",
       "    </tr>\n",
       "  </tbody>\n",
       "</table>\n",
       "</div>"
      ],
      "text/plain": [
       "                  id    popularity        budget       revenue       runtime  \\\n",
       "count   10866.000000  10866.000000  1.086600e+04  1.086600e+04  10866.000000   \n",
       "mean    66064.177434      0.646441  1.462570e+07  3.982332e+07    102.070863   \n",
       "std     92130.136561      1.000185  3.091321e+07  1.170035e+08     31.381405   \n",
       "min         5.000000      0.000065  0.000000e+00  0.000000e+00      0.000000   \n",
       "25%     10596.250000      0.207583  0.000000e+00  0.000000e+00     90.000000   \n",
       "50%     20669.000000      0.383856  0.000000e+00  0.000000e+00     99.000000   \n",
       "75%     75610.000000      0.713817  1.500000e+07  2.400000e+07    111.000000   \n",
       "max    417859.000000     32.985763  4.250000e+08  2.781506e+09    900.000000   \n",
       "\n",
       "         vote_count  vote_average  release_year    budget_adj   revenue_adj  \n",
       "count  10866.000000  10866.000000  10866.000000  1.086600e+04  1.086600e+04  \n",
       "mean     217.389748      5.974922   2001.322658  1.755104e+07  5.136436e+07  \n",
       "std      575.619058      0.935142     12.812941  3.430616e+07  1.446325e+08  \n",
       "min       10.000000      1.500000   1960.000000  0.000000e+00  0.000000e+00  \n",
       "25%       17.000000      5.400000   1995.000000  0.000000e+00  0.000000e+00  \n",
       "50%       38.000000      6.000000   2006.000000  0.000000e+00  0.000000e+00  \n",
       "75%      145.750000      6.600000   2011.000000  2.085325e+07  3.369710e+07  \n",
       "max     9767.000000      9.200000   2015.000000  4.250000e+08  2.827124e+09  "
      ]
     },
     "execution_count": 4,
     "metadata": {},
     "output_type": "execute_result"
    }
   ],
   "source": [
    "df_mov.describe()"
   ]
  },
  {
   "cell_type": "markdown",
   "metadata": {},
   "source": [
    "## Data Cleaning"
   ]
  },
  {
   "cell_type": "code",
   "execution_count": 5,
   "metadata": {
    "scrolled": true
   },
   "outputs": [
    {
     "name": "stdout",
     "output_type": "stream",
     "text": [
      "<class 'pandas.core.frame.DataFrame'>\n",
      "RangeIndex: 10866 entries, 0 to 10865\n",
      "Data columns (total 21 columns):\n",
      " #   Column                Non-Null Count  Dtype  \n",
      "---  ------                --------------  -----  \n",
      " 0   id                    10866 non-null  int64  \n",
      " 1   imdb_id               10856 non-null  object \n",
      " 2   popularity            10866 non-null  float64\n",
      " 3   budget                10866 non-null  int64  \n",
      " 4   revenue               10866 non-null  int64  \n",
      " 5   original_title        10866 non-null  object \n",
      " 6   cast                  10790 non-null  object \n",
      " 7   homepage              2936 non-null   object \n",
      " 8   director              10822 non-null  object \n",
      " 9   tagline               8042 non-null   object \n",
      " 10  keywords              9373 non-null   object \n",
      " 11  overview              10862 non-null  object \n",
      " 12  runtime               10866 non-null  int64  \n",
      " 13  genres                10843 non-null  object \n",
      " 14  production_companies  9836 non-null   object \n",
      " 15  release_date          10866 non-null  object \n",
      " 16  vote_count            10866 non-null  int64  \n",
      " 17  vote_average          10866 non-null  float64\n",
      " 18  release_year          10866 non-null  int64  \n",
      " 19  budget_adj            10866 non-null  float64\n",
      " 20  revenue_adj           10866 non-null  float64\n",
      "dtypes: float64(4), int64(6), object(11)\n",
      "memory usage: 1.7+ MB\n"
     ]
    }
   ],
   "source": [
    "df_mov.info()"
   ]
  },
  {
   "cell_type": "code",
   "execution_count": 1,
   "metadata": {},
   "outputs": [
    {
     "ename": "NameError",
     "evalue": "name 'df_mov' is not defined",
     "output_type": "error",
     "traceback": [
      "\u001b[0;31m---------------------------------------------------------------------------\u001b[0m",
      "\u001b[0;31mNameError\u001b[0m                                 Traceback (most recent call last)",
      "Cell \u001b[0;32mIn[1], line 2\u001b[0m\n\u001b[1;32m      1\u001b[0m \u001b[38;5;66;03m# Number of duplications:\u001b[39;00m\n\u001b[0;32m----> 2\u001b[0m \u001b[38;5;28msum\u001b[39m(\u001b[43mdf_mov\u001b[49m\u001b[38;5;241m.\u001b[39mduplicated())\n",
      "\u001b[0;31mNameError\u001b[0m: name 'df_mov' is not defined"
     ]
    }
   ],
   "source": [
    "# Number of duplications:\n",
    "sum(df_mov.duplicated())"
   ]
  },
  {
   "cell_type": "code",
   "execution_count": 7,
   "metadata": {
    "tags": []
   },
   "outputs": [],
   "source": [
    "# Drop duplications\n",
    "df_mov.drop_duplicates(inplace=True)"
   ]
  },
  {
   "cell_type": "code",
   "execution_count": 8,
   "metadata": {},
   "outputs": [
    {
     "data": {
      "text/plain": [
       "0"
      ]
     },
     "execution_count": 8,
     "metadata": {},
     "output_type": "execute_result"
    }
   ],
   "source": [
    "# Checking duplicatios:\n",
    "sum(df_mov.duplicated())"
   ]
  },
  {
   "cell_type": "code",
   "execution_count": 12,
   "metadata": {
    "scrolled": true
   },
   "outputs": [
    {
     "data": {
      "text/plain": [
       "id                      0\n",
       "imdb_id                 0\n",
       "popularity              0\n",
       "budget                  0\n",
       "revenue                 0\n",
       "original_title          0\n",
       "cast                    0\n",
       "homepage                0\n",
       "director                0\n",
       "tagline                 0\n",
       "keywords                0\n",
       "overview                0\n",
       "runtime                 0\n",
       "genres                  0\n",
       "production_companies    0\n",
       "release_date            0\n",
       "vote_count              0\n",
       "vote_average            0\n",
       "release_year            0\n",
       "budget_adj              0\n",
       "revenue_adj             0\n",
       "dtype: int64"
      ]
     },
     "execution_count": 12,
     "metadata": {},
     "output_type": "execute_result"
    }
   ],
   "source": [
    "# Checking null values:\n",
    "df_mov.isnull().sum()"
   ]
  },
  {
   "cell_type": "code",
   "execution_count": 10,
   "metadata": {},
   "outputs": [],
   "source": [
    "# Drop null values\n",
    "df_mov.dropna(inplace =True)"
   ]
  },
  {
   "cell_type": "code",
   "execution_count": 11,
   "metadata": {},
   "outputs": [
    {
     "data": {
      "text/plain": [
       "False"
      ]
     },
     "execution_count": 11,
     "metadata": {},
     "output_type": "execute_result"
    }
   ],
   "source": [
    "# Checking null values:\n",
    "df_mov.isnull().sum().any()"
   ]
  },
  {
   "cell_type": "code",
   "execution_count": 40,
   "metadata": {},
   "outputs": [],
   "source": [
    "# change datatypes\n",
    "df_mov['release_date']=pd.to_datetime(df_mov['release_date'])"
   ]
  },
  {
   "cell_type": "code",
   "execution_count": 41,
   "metadata": {},
   "outputs": [
    {
     "name": "stdout",
     "output_type": "stream",
     "text": [
      "<class 'pandas.core.frame.DataFrame'>\n",
      "Int64Index: 1992 entries, 0 to 10819\n",
      "Data columns (total 21 columns):\n",
      " #   Column                Non-Null Count  Dtype         \n",
      "---  ------                --------------  -----         \n",
      " 0   id                    1992 non-null   int64         \n",
      " 1   imdb_id               1992 non-null   object        \n",
      " 2   popularity            1992 non-null   float64       \n",
      " 3   budget                1992 non-null   int64         \n",
      " 4   revenue               1992 non-null   int64         \n",
      " 5   original_title        1992 non-null   object        \n",
      " 6   cast                  1992 non-null   object        \n",
      " 7   homepage              1992 non-null   object        \n",
      " 8   director              1992 non-null   object        \n",
      " 9   tagline               1992 non-null   object        \n",
      " 10  keywords              1992 non-null   object        \n",
      " 11  overview              1992 non-null   object        \n",
      " 12  runtime               1992 non-null   int64         \n",
      " 13  genres                1992 non-null   object        \n",
      " 14  production_companies  1992 non-null   object        \n",
      " 15  release_date          1992 non-null   datetime64[ns]\n",
      " 16  vote_count            1992 non-null   int64         \n",
      " 17  vote_average          1992 non-null   float64       \n",
      " 18  release_year          1992 non-null   int64         \n",
      " 19  budget_adj            1992 non-null   float64       \n",
      " 20  revenue_adj           1992 non-null   float64       \n",
      "dtypes: datetime64[ns](1), float64(4), int64(6), object(10)\n",
      "memory usage: 342.4+ KB\n"
     ]
    }
   ],
   "source": [
    "df_mov.info()"
   ]
  },
  {
   "cell_type": "code",
   "execution_count": 42,
   "metadata": {
    "scrolled": true
   },
   "outputs": [
    {
     "data": {
      "text/html": [
       "<div>\n",
       "<style scoped>\n",
       "    .dataframe tbody tr th:only-of-type {\n",
       "        vertical-align: middle;\n",
       "    }\n",
       "\n",
       "    .dataframe tbody tr th {\n",
       "        vertical-align: top;\n",
       "    }\n",
       "\n",
       "    .dataframe thead th {\n",
       "        text-align: right;\n",
       "    }\n",
       "</style>\n",
       "<table border=\"1\" class=\"dataframe\">\n",
       "  <thead>\n",
       "    <tr style=\"text-align: right;\">\n",
       "      <th></th>\n",
       "      <th>id</th>\n",
       "      <th>imdb_id</th>\n",
       "      <th>popularity</th>\n",
       "      <th>budget</th>\n",
       "      <th>revenue</th>\n",
       "      <th>original_title</th>\n",
       "      <th>cast</th>\n",
       "      <th>homepage</th>\n",
       "      <th>director</th>\n",
       "      <th>tagline</th>\n",
       "      <th>...</th>\n",
       "      <th>overview</th>\n",
       "      <th>runtime</th>\n",
       "      <th>genres</th>\n",
       "      <th>production_companies</th>\n",
       "      <th>release_date</th>\n",
       "      <th>vote_count</th>\n",
       "      <th>vote_average</th>\n",
       "      <th>release_year</th>\n",
       "      <th>budget_adj</th>\n",
       "      <th>revenue_adj</th>\n",
       "    </tr>\n",
       "  </thead>\n",
       "  <tbody>\n",
       "    <tr>\n",
       "      <th>10724</th>\n",
       "      <td>668</td>\n",
       "      <td>tt0064757</td>\n",
       "      <td>1.778746</td>\n",
       "      <td>7000000</td>\n",
       "      <td>81974493</td>\n",
       "      <td>On Her Majesty's Secret Service</td>\n",
       "      <td>George Lazenby|Diana Rigg|Telly Savalas|Gabrie...</td>\n",
       "      <td>http://www.mgm.com/view/movie/1411/On-Her-Maje...</td>\n",
       "      <td>Peter R. Hunt</td>\n",
       "      <td>Far up! Far out! Far more! James Bond 007 is b...</td>\n",
       "      <td>...</td>\n",
       "      <td>James Bond tracks archnemesis Ernst Blofeld to...</td>\n",
       "      <td>142</td>\n",
       "      <td>Adventure|Action|Thriller</td>\n",
       "      <td>Eon Productions|Metro-Goldwyn-Mayer (MGM)|Danjaq</td>\n",
       "      <td>2069-12-12</td>\n",
       "      <td>258</td>\n",
       "      <td>6.4</td>\n",
       "      <td>1969</td>\n",
       "      <td>4.160985e+07</td>\n",
       "      <td>4.872780e+08</td>\n",
       "    </tr>\n",
       "    <tr>\n",
       "      <th>10759</th>\n",
       "      <td>948</td>\n",
       "      <td>tt0077651</td>\n",
       "      <td>1.198849</td>\n",
       "      <td>300000</td>\n",
       "      <td>70000000</td>\n",
       "      <td>Halloween</td>\n",
       "      <td>Donald Pleasence|Jamie Lee Curtis|P.J. Soles|N...</td>\n",
       "      <td>http://www.theofficialjohncarpenter.com/hallow...</td>\n",
       "      <td>John Carpenter</td>\n",
       "      <td>The Night HE Came Home!</td>\n",
       "      <td>...</td>\n",
       "      <td>A psychotic murderer, institutionalized since ...</td>\n",
       "      <td>91</td>\n",
       "      <td>Horror|Thriller</td>\n",
       "      <td>Compass International Pictures|Falcon Internat...</td>\n",
       "      <td>1978-10-25</td>\n",
       "      <td>522</td>\n",
       "      <td>7.3</td>\n",
       "      <td>1978</td>\n",
       "      <td>1.002810e+06</td>\n",
       "      <td>2.339890e+08</td>\n",
       "    </tr>\n",
       "    <tr>\n",
       "      <th>10760</th>\n",
       "      <td>8469</td>\n",
       "      <td>tt0077975</td>\n",
       "      <td>1.157930</td>\n",
       "      <td>2700000</td>\n",
       "      <td>141000000</td>\n",
       "      <td>Animal House</td>\n",
       "      <td>John Belushi|Tim Matheson|John Vernon|Verna Bl...</td>\n",
       "      <td>http://www.animalhouse.com/</td>\n",
       "      <td>John Landis</td>\n",
       "      <td>It was the Deltas against the rules... the rul...</td>\n",
       "      <td>...</td>\n",
       "      <td>At a 1962 College, Dean Vernon Wormer is deter...</td>\n",
       "      <td>109</td>\n",
       "      <td>Comedy</td>\n",
       "      <td>Universal Pictures|Oregon Film Factory|Stage I...</td>\n",
       "      <td>1978-07-27</td>\n",
       "      <td>230</td>\n",
       "      <td>6.7</td>\n",
       "      <td>1978</td>\n",
       "      <td>9.025292e+06</td>\n",
       "      <td>4.713208e+08</td>\n",
       "    </tr>\n",
       "    <tr>\n",
       "      <th>10817</th>\n",
       "      <td>13963</td>\n",
       "      <td>tt0077838</td>\n",
       "      <td>0.064029</td>\n",
       "      <td>0</td>\n",
       "      <td>321952</td>\n",
       "      <td>The Last Waltz</td>\n",
       "      <td>Robbie Robertson|Rick Danko|Levon Helm|Richard...</td>\n",
       "      <td>http://www.mgm.com/#/our-titles/1092/The-Last-...</td>\n",
       "      <td>Martin Scorsese</td>\n",
       "      <td>It Started as a Concert. It Became a Celebration.</td>\n",
       "      <td>...</td>\n",
       "      <td>Martin Scorsese's rockumentary intertwines foo...</td>\n",
       "      <td>117</td>\n",
       "      <td>Documentary|Music</td>\n",
       "      <td>FM Productions|Last Waltz Inc.</td>\n",
       "      <td>1978-05-01</td>\n",
       "      <td>33</td>\n",
       "      <td>8.0</td>\n",
       "      <td>1978</td>\n",
       "      <td>0.000000e+00</td>\n",
       "      <td>1.076189e+06</td>\n",
       "    </tr>\n",
       "    <tr>\n",
       "      <th>10819</th>\n",
       "      <td>16214</td>\n",
       "      <td>tt0077696</td>\n",
       "      <td>0.044675</td>\n",
       "      <td>0</td>\n",
       "      <td>78000000</td>\n",
       "      <td>Hooper</td>\n",
       "      <td>Burt Reynolds|Robert Klein|Adam West|Jan-Micha...</td>\n",
       "      <td>http://en.wikipedia.org/wiki/Hooper_(film)</td>\n",
       "      <td>Hal Needham</td>\n",
       "      <td>The greatest stuntman alive!</td>\n",
       "      <td>...</td>\n",
       "      <td>Burt Reynolds plays a legendary stunt man know...</td>\n",
       "      <td>107</td>\n",
       "      <td>Action|Comedy</td>\n",
       "      <td>Warner Bros.</td>\n",
       "      <td>1978-07-28</td>\n",
       "      <td>13</td>\n",
       "      <td>6.0</td>\n",
       "      <td>1978</td>\n",
       "      <td>0.000000e+00</td>\n",
       "      <td>2.607307e+08</td>\n",
       "    </tr>\n",
       "  </tbody>\n",
       "</table>\n",
       "<p>5 rows × 21 columns</p>\n",
       "</div>"
      ],
      "text/plain": [
       "          id    imdb_id  popularity   budget    revenue  \\\n",
       "10724    668  tt0064757    1.778746  7000000   81974493   \n",
       "10759    948  tt0077651    1.198849   300000   70000000   \n",
       "10760   8469  tt0077975    1.157930  2700000  141000000   \n",
       "10817  13963  tt0077838    0.064029        0     321952   \n",
       "10819  16214  tt0077696    0.044675        0   78000000   \n",
       "\n",
       "                        original_title  \\\n",
       "10724  On Her Majesty's Secret Service   \n",
       "10759                        Halloween   \n",
       "10760                     Animal House   \n",
       "10817                   The Last Waltz   \n",
       "10819                           Hooper   \n",
       "\n",
       "                                                    cast  \\\n",
       "10724  George Lazenby|Diana Rigg|Telly Savalas|Gabrie...   \n",
       "10759  Donald Pleasence|Jamie Lee Curtis|P.J. Soles|N...   \n",
       "10760  John Belushi|Tim Matheson|John Vernon|Verna Bl...   \n",
       "10817  Robbie Robertson|Rick Danko|Levon Helm|Richard...   \n",
       "10819  Burt Reynolds|Robert Klein|Adam West|Jan-Micha...   \n",
       "\n",
       "                                                homepage         director  \\\n",
       "10724  http://www.mgm.com/view/movie/1411/On-Her-Maje...    Peter R. Hunt   \n",
       "10759  http://www.theofficialjohncarpenter.com/hallow...   John Carpenter   \n",
       "10760                        http://www.animalhouse.com/      John Landis   \n",
       "10817  http://www.mgm.com/#/our-titles/1092/The-Last-...  Martin Scorsese   \n",
       "10819         http://en.wikipedia.org/wiki/Hooper_(film)      Hal Needham   \n",
       "\n",
       "                                                 tagline  ...  \\\n",
       "10724  Far up! Far out! Far more! James Bond 007 is b...  ...   \n",
       "10759                            The Night HE Came Home!  ...   \n",
       "10760  It was the Deltas against the rules... the rul...  ...   \n",
       "10817  It Started as a Concert. It Became a Celebration.  ...   \n",
       "10819                       The greatest stuntman alive!  ...   \n",
       "\n",
       "                                                overview runtime  \\\n",
       "10724  James Bond tracks archnemesis Ernst Blofeld to...     142   \n",
       "10759  A psychotic murderer, institutionalized since ...      91   \n",
       "10760  At a 1962 College, Dean Vernon Wormer is deter...     109   \n",
       "10817  Martin Scorsese's rockumentary intertwines foo...     117   \n",
       "10819  Burt Reynolds plays a legendary stunt man know...     107   \n",
       "\n",
       "                          genres  \\\n",
       "10724  Adventure|Action|Thriller   \n",
       "10759            Horror|Thriller   \n",
       "10760                     Comedy   \n",
       "10817          Documentary|Music   \n",
       "10819              Action|Comedy   \n",
       "\n",
       "                                    production_companies release_date  \\\n",
       "10724   Eon Productions|Metro-Goldwyn-Mayer (MGM)|Danjaq   2069-12-12   \n",
       "10759  Compass International Pictures|Falcon Internat...   1978-10-25   \n",
       "10760  Universal Pictures|Oregon Film Factory|Stage I...   1978-07-27   \n",
       "10817                     FM Productions|Last Waltz Inc.   1978-05-01   \n",
       "10819                                       Warner Bros.   1978-07-28   \n",
       "\n",
       "      vote_count  vote_average  release_year    budget_adj   revenue_adj  \n",
       "10724        258           6.4          1969  4.160985e+07  4.872780e+08  \n",
       "10759        522           7.3          1978  1.002810e+06  2.339890e+08  \n",
       "10760        230           6.7          1978  9.025292e+06  4.713208e+08  \n",
       "10817         33           8.0          1978  0.000000e+00  1.076189e+06  \n",
       "10819         13           6.0          1978  0.000000e+00  2.607307e+08  \n",
       "\n",
       "[5 rows x 21 columns]"
      ]
     },
     "execution_count": 42,
     "metadata": {},
     "output_type": "execute_result"
    }
   ],
   "source": [
    "df_mov.tail()"
   ]
  },
  {
   "cell_type": "code",
   "execution_count": 43,
   "metadata": {},
   "outputs": [
    {
     "data": {
      "text/plain": [
       "(1992, 21)"
      ]
     },
     "execution_count": 43,
     "metadata": {},
     "output_type": "execute_result"
    }
   ],
   "source": [
    "# Shape of the dataset\n",
    "df_mov.shape"
   ]
  },
  {
   "cell_type": "markdown",
   "metadata": {},
   "source": [
    "<a id='eda'></a>\n",
    "## Exploratory Data Analysis\n",
    "\n",
    "> **Tip**: Now that you've trimmed and cleaned your data, you're ready to move on to exploration. **Compute statistics** and **create visualizations** with the goal of addressing the research questions that you posed in the Introduction section. You should compute the relevant statistics throughout the analysis when an inference is made about the data. Note that at least two or more kinds of plots should be created as part of the exploration, and you must  compare and show trends in the varied visualizations. Remember to utilize the visualizations that the pandas library already has available.\n",
    "\n",
    "\n",
    "\n",
    "> **Tip**: Investigate the stated question(s) from multiple angles. It is recommended that you be systematic with your approach. Look at one variable at a time, and then follow it up by looking at relationships between variables. You should explore at least three variables in relation to the primary question. This can be an exploratory relationship between three variables of interest, or looking at how two independent variables relate to a single dependent variable of interest. Lastly, you  should perform both single-variable (1d) and multiple-variable (2d) explorations.\n",
    "\n",
    "\n",
    "### Research Question 1 (release_year)"
   ]
  },
  {
   "cell_type": "markdown",
   "metadata": {},
   "source": [
    "### Explore the data"
   ]
  },
  {
   "cell_type": "code",
   "execution_count": 44,
   "metadata": {
    "scrolled": true,
    "tags": []
   },
   "outputs": [
    {
     "data": {
      "text/html": [
       "<div>\n",
       "<style scoped>\n",
       "    .dataframe tbody tr th:only-of-type {\n",
       "        vertical-align: middle;\n",
       "    }\n",
       "\n",
       "    .dataframe tbody tr th {\n",
       "        vertical-align: top;\n",
       "    }\n",
       "\n",
       "    .dataframe thead th {\n",
       "        text-align: right;\n",
       "    }\n",
       "</style>\n",
       "<table border=\"1\" class=\"dataframe\">\n",
       "  <thead>\n",
       "    <tr style=\"text-align: right;\">\n",
       "      <th></th>\n",
       "      <th>id</th>\n",
       "      <th>popularity</th>\n",
       "      <th>budget</th>\n",
       "      <th>revenue</th>\n",
       "      <th>runtime</th>\n",
       "      <th>vote_count</th>\n",
       "      <th>vote_average</th>\n",
       "      <th>budget_adj</th>\n",
       "      <th>revenue_adj</th>\n",
       "    </tr>\n",
       "    <tr>\n",
       "      <th>release_year</th>\n",
       "      <th></th>\n",
       "      <th></th>\n",
       "      <th></th>\n",
       "      <th></th>\n",
       "      <th></th>\n",
       "      <th></th>\n",
       "      <th></th>\n",
       "      <th></th>\n",
       "      <th></th>\n",
       "    </tr>\n",
       "  </thead>\n",
       "  <tbody>\n",
       "    <tr>\n",
       "      <th>1961</th>\n",
       "      <td>430</td>\n",
       "      <td>0.303783</td>\n",
       "      <td>3000000</td>\n",
       "      <td>4000000</td>\n",
       "      <td>115</td>\n",
       "      <td>30</td>\n",
       "      <td>7.5</td>\n",
       "      <td>2.188458e+07</td>\n",
       "      <td>2.917944e+07</td>\n",
       "    </tr>\n",
       "    <tr>\n",
       "      <th>1962</th>\n",
       "      <td>646</td>\n",
       "      <td>3.170651</td>\n",
       "      <td>1100000</td>\n",
       "      <td>59600000</td>\n",
       "      <td>110</td>\n",
       "      <td>560</td>\n",
       "      <td>6.7</td>\n",
       "      <td>7.929294e+06</td>\n",
       "      <td>4.296236e+08</td>\n",
       "    </tr>\n",
       "    <tr>\n",
       "      <th>1963</th>\n",
       "      <td>657</td>\n",
       "      <td>2.508235</td>\n",
       "      <td>2500000</td>\n",
       "      <td>78898765</td>\n",
       "      <td>115</td>\n",
       "      <td>458</td>\n",
       "      <td>6.7</td>\n",
       "      <td>1.780045e+07</td>\n",
       "      <td>5.617734e+08</td>\n",
       "    </tr>\n",
       "    <tr>\n",
       "      <th>1964</th>\n",
       "      <td>1362</td>\n",
       "      <td>3.965985</td>\n",
       "      <td>4000000</td>\n",
       "      <td>125900549</td>\n",
       "      <td>198</td>\n",
       "      <td>694</td>\n",
       "      <td>13.9</td>\n",
       "      <td>2.812107e+07</td>\n",
       "      <td>8.851145e+08</td>\n",
       "    </tr>\n",
       "    <tr>\n",
       "      <th>1965</th>\n",
       "      <td>660</td>\n",
       "      <td>1.910465</td>\n",
       "      <td>11000000</td>\n",
       "      <td>141195658</td>\n",
       "      <td>130</td>\n",
       "      <td>331</td>\n",
       "      <td>6.3</td>\n",
       "      <td>7.612620e+07</td>\n",
       "      <td>9.771535e+08</td>\n",
       "    </tr>\n",
       "  </tbody>\n",
       "</table>\n",
       "</div>"
      ],
      "text/plain": [
       "                id  popularity    budget    revenue  runtime  vote_count  \\\n",
       "release_year                                                               \n",
       "1961           430    0.303783   3000000    4000000      115          30   \n",
       "1962           646    3.170651   1100000   59600000      110         560   \n",
       "1963           657    2.508235   2500000   78898765      115         458   \n",
       "1964          1362    3.965985   4000000  125900549      198         694   \n",
       "1965           660    1.910465  11000000  141195658      130         331   \n",
       "\n",
       "              vote_average    budget_adj   revenue_adj  \n",
       "release_year                                            \n",
       "1961                   7.5  2.188458e+07  2.917944e+07  \n",
       "1962                   6.7  7.929294e+06  4.296236e+08  \n",
       "1963                   6.7  1.780045e+07  5.617734e+08  \n",
       "1964                  13.9  2.812107e+07  8.851145e+08  \n",
       "1965                   6.3  7.612620e+07  9.771535e+08  "
      ]
     },
     "execution_count": 44,
     "metadata": {},
     "output_type": "execute_result"
    }
   ],
   "source": [
    "df_mov.groupby(by='release_year').sum(numeric_only=True).head()"
   ]
  },
  {
   "cell_type": "markdown",
   "metadata": {},
   "source": [
    "### Diplay statistical data!"
   ]
  },
  {
   "cell_type": "code",
   "execution_count": 45,
   "metadata": {},
   "outputs": [
    {
     "data": {
      "text/html": [
       "<div>\n",
       "<style scoped>\n",
       "    .dataframe tbody tr th:only-of-type {\n",
       "        vertical-align: middle;\n",
       "    }\n",
       "\n",
       "    .dataframe tbody tr th {\n",
       "        vertical-align: top;\n",
       "    }\n",
       "\n",
       "    .dataframe thead th {\n",
       "        text-align: right;\n",
       "    }\n",
       "</style>\n",
       "<table border=\"1\" class=\"dataframe\">\n",
       "  <thead>\n",
       "    <tr style=\"text-align: right;\">\n",
       "      <th></th>\n",
       "      <th>id</th>\n",
       "      <th>popularity</th>\n",
       "      <th>budget</th>\n",
       "      <th>revenue</th>\n",
       "      <th>runtime</th>\n",
       "      <th>vote_count</th>\n",
       "      <th>vote_average</th>\n",
       "      <th>budget_adj</th>\n",
       "      <th>revenue_adj</th>\n",
       "    </tr>\n",
       "    <tr>\n",
       "      <th>release_year</th>\n",
       "      <th></th>\n",
       "      <th></th>\n",
       "      <th></th>\n",
       "      <th></th>\n",
       "      <th></th>\n",
       "      <th></th>\n",
       "      <th></th>\n",
       "      <th></th>\n",
       "      <th></th>\n",
       "    </tr>\n",
       "  </thead>\n",
       "  <tbody>\n",
       "    <tr>\n",
       "      <th>1961</th>\n",
       "      <td>430.0</td>\n",
       "      <td>0.303783</td>\n",
       "      <td>3000000.0</td>\n",
       "      <td>4000000.0</td>\n",
       "      <td>115.0</td>\n",
       "      <td>30.0</td>\n",
       "      <td>7.50</td>\n",
       "      <td>2.188458e+07</td>\n",
       "      <td>2.917944e+07</td>\n",
       "    </tr>\n",
       "    <tr>\n",
       "      <th>1962</th>\n",
       "      <td>646.0</td>\n",
       "      <td>3.170651</td>\n",
       "      <td>1100000.0</td>\n",
       "      <td>59600000.0</td>\n",
       "      <td>110.0</td>\n",
       "      <td>560.0</td>\n",
       "      <td>6.70</td>\n",
       "      <td>7.929294e+06</td>\n",
       "      <td>4.296236e+08</td>\n",
       "    </tr>\n",
       "    <tr>\n",
       "      <th>1963</th>\n",
       "      <td>657.0</td>\n",
       "      <td>2.508235</td>\n",
       "      <td>2500000.0</td>\n",
       "      <td>78898765.0</td>\n",
       "      <td>115.0</td>\n",
       "      <td>458.0</td>\n",
       "      <td>6.70</td>\n",
       "      <td>1.780045e+07</td>\n",
       "      <td>5.617734e+08</td>\n",
       "    </tr>\n",
       "    <tr>\n",
       "      <th>1964</th>\n",
       "      <td>681.0</td>\n",
       "      <td>1.982992</td>\n",
       "      <td>2000000.0</td>\n",
       "      <td>62950274.5</td>\n",
       "      <td>99.0</td>\n",
       "      <td>347.0</td>\n",
       "      <td>6.95</td>\n",
       "      <td>1.406053e+07</td>\n",
       "      <td>4.425573e+08</td>\n",
       "    </tr>\n",
       "    <tr>\n",
       "      <th>1965</th>\n",
       "      <td>660.0</td>\n",
       "      <td>1.910465</td>\n",
       "      <td>11000000.0</td>\n",
       "      <td>141195658.0</td>\n",
       "      <td>130.0</td>\n",
       "      <td>331.0</td>\n",
       "      <td>6.30</td>\n",
       "      <td>7.612620e+07</td>\n",
       "      <td>9.771535e+08</td>\n",
       "    </tr>\n",
       "  </tbody>\n",
       "</table>\n",
       "</div>"
      ],
      "text/plain": [
       "                 id  popularity      budget      revenue  runtime  vote_count  \\\n",
       "release_year                                                                    \n",
       "1961          430.0    0.303783   3000000.0    4000000.0    115.0        30.0   \n",
       "1962          646.0    3.170651   1100000.0   59600000.0    110.0       560.0   \n",
       "1963          657.0    2.508235   2500000.0   78898765.0    115.0       458.0   \n",
       "1964          681.0    1.982992   2000000.0   62950274.5     99.0       347.0   \n",
       "1965          660.0    1.910465  11000000.0  141195658.0    130.0       331.0   \n",
       "\n",
       "              vote_average    budget_adj   revenue_adj  \n",
       "release_year                                            \n",
       "1961                  7.50  2.188458e+07  2.917944e+07  \n",
       "1962                  6.70  7.929294e+06  4.296236e+08  \n",
       "1963                  6.70  1.780045e+07  5.617734e+08  \n",
       "1964                  6.95  1.406053e+07  4.425573e+08  \n",
       "1965                  6.30  7.612620e+07  9.771535e+08  "
      ]
     },
     "execution_count": 45,
     "metadata": {},
     "output_type": "execute_result"
    }
   ],
   "source": [
    "df_mov.groupby(by=\"release_year\").mean(numeric_only=True).head()"
   ]
  },
  {
   "cell_type": "code",
   "execution_count": 46,
   "metadata": {
    "scrolled": true
   },
   "outputs": [
    {
     "data": {
      "text/html": [
       "<div>\n",
       "<style scoped>\n",
       "    .dataframe tbody tr th:only-of-type {\n",
       "        vertical-align: middle;\n",
       "    }\n",
       "\n",
       "    .dataframe tbody tr th {\n",
       "        vertical-align: top;\n",
       "    }\n",
       "\n",
       "    .dataframe thead th {\n",
       "        text-align: right;\n",
       "    }\n",
       "</style>\n",
       "<table border=\"1\" class=\"dataframe\">\n",
       "  <thead>\n",
       "    <tr style=\"text-align: right;\">\n",
       "      <th></th>\n",
       "      <th>id</th>\n",
       "      <th>popularity</th>\n",
       "      <th>budget</th>\n",
       "      <th>revenue</th>\n",
       "      <th>runtime</th>\n",
       "      <th>vote_count</th>\n",
       "      <th>vote_average</th>\n",
       "      <th>budget_adj</th>\n",
       "      <th>revenue_adj</th>\n",
       "    </tr>\n",
       "    <tr>\n",
       "      <th>release_year</th>\n",
       "      <th></th>\n",
       "      <th></th>\n",
       "      <th></th>\n",
       "      <th></th>\n",
       "      <th></th>\n",
       "      <th></th>\n",
       "      <th></th>\n",
       "      <th></th>\n",
       "      <th></th>\n",
       "    </tr>\n",
       "  </thead>\n",
       "  <tbody>\n",
       "    <tr>\n",
       "      <th>1961</th>\n",
       "      <td>430.0</td>\n",
       "      <td>0.303783</td>\n",
       "      <td>3000000.0</td>\n",
       "      <td>4000000.0</td>\n",
       "      <td>115.0</td>\n",
       "      <td>30.0</td>\n",
       "      <td>7.50</td>\n",
       "      <td>2.188458e+07</td>\n",
       "      <td>2.917944e+07</td>\n",
       "    </tr>\n",
       "    <tr>\n",
       "      <th>1962</th>\n",
       "      <td>646.0</td>\n",
       "      <td>3.170651</td>\n",
       "      <td>1100000.0</td>\n",
       "      <td>59600000.0</td>\n",
       "      <td>110.0</td>\n",
       "      <td>560.0</td>\n",
       "      <td>6.70</td>\n",
       "      <td>7.929294e+06</td>\n",
       "      <td>4.296236e+08</td>\n",
       "    </tr>\n",
       "    <tr>\n",
       "      <th>1963</th>\n",
       "      <td>657.0</td>\n",
       "      <td>2.508235</td>\n",
       "      <td>2500000.0</td>\n",
       "      <td>78898765.0</td>\n",
       "      <td>115.0</td>\n",
       "      <td>458.0</td>\n",
       "      <td>6.70</td>\n",
       "      <td>1.780045e+07</td>\n",
       "      <td>5.617734e+08</td>\n",
       "    </tr>\n",
       "    <tr>\n",
       "      <th>1964</th>\n",
       "      <td>681.0</td>\n",
       "      <td>1.982992</td>\n",
       "      <td>2000000.0</td>\n",
       "      <td>62950274.5</td>\n",
       "      <td>99.0</td>\n",
       "      <td>347.0</td>\n",
       "      <td>6.95</td>\n",
       "      <td>1.406053e+07</td>\n",
       "      <td>4.425573e+08</td>\n",
       "    </tr>\n",
       "    <tr>\n",
       "      <th>1965</th>\n",
       "      <td>660.0</td>\n",
       "      <td>1.910465</td>\n",
       "      <td>11000000.0</td>\n",
       "      <td>141195658.0</td>\n",
       "      <td>130.0</td>\n",
       "      <td>331.0</td>\n",
       "      <td>6.30</td>\n",
       "      <td>7.612620e+07</td>\n",
       "      <td>9.771535e+08</td>\n",
       "    </tr>\n",
       "  </tbody>\n",
       "</table>\n",
       "</div>"
      ],
      "text/plain": [
       "                 id  popularity      budget      revenue  runtime  vote_count  \\\n",
       "release_year                                                                    \n",
       "1961          430.0    0.303783   3000000.0    4000000.0    115.0        30.0   \n",
       "1962          646.0    3.170651   1100000.0   59600000.0    110.0       560.0   \n",
       "1963          657.0    2.508235   2500000.0   78898765.0    115.0       458.0   \n",
       "1964          681.0    1.982992   2000000.0   62950274.5     99.0       347.0   \n",
       "1965          660.0    1.910465  11000000.0  141195658.0    130.0       331.0   \n",
       "\n",
       "              vote_average    budget_adj   revenue_adj  \n",
       "release_year                                            \n",
       "1961                  7.50  2.188458e+07  2.917944e+07  \n",
       "1962                  6.70  7.929294e+06  4.296236e+08  \n",
       "1963                  6.70  1.780045e+07  5.617734e+08  \n",
       "1964                  6.95  1.406053e+07  4.425573e+08  \n",
       "1965                  6.30  7.612620e+07  9.771535e+08  "
      ]
     },
     "execution_count": 46,
     "metadata": {},
     "output_type": "execute_result"
    }
   ],
   "source": [
    "df_mov.groupby(by=\"release_year\").median(numeric_only=True).head()"
   ]
  },
  {
   "cell_type": "code",
   "execution_count": 47,
   "metadata": {},
   "outputs": [
    {
     "data": {
      "text/plain": [
       "count    1992.000000\n",
       "mean     2007.796687\n",
       "std         7.549224\n",
       "min      1961.000000\n",
       "25%      2006.000000\n",
       "50%      2010.000000\n",
       "75%      2012.000000\n",
       "max      2015.000000\n",
       "Name: release_year, dtype: float64"
      ]
     },
     "execution_count": 47,
     "metadata": {},
     "output_type": "execute_result"
    }
   ],
   "source": [
    "df_mov['release_year'].describe()"
   ]
  },
  {
   "cell_type": "markdown",
   "metadata": {},
   "source": [
    "### Visualize the data by using histogram!"
   ]
  },
  {
   "cell_type": "code",
   "execution_count": 48,
   "metadata": {
    "scrolled": true
   },
   "outputs": [
    {
     "data": {
      "image/png": "[encoded data removed]",
      "text/plain": [
       "<Figure size 800x600 with 1 Axes>"
      ]
     },
     "metadata": {},
     "output_type": "display_data"
    }
   ],
   "source": [
    "import matplotlib.pyplot as plt\n",
    "\n",
    "def histo(args):\n",
    " df_mov[args].hist(figsize=(8,6))\n",
    " plt.title('Frequency of the Release_Year',fontsize=12)\n",
    " plt.xlabel( args ,fontsize=12)\n",
    " plt.ylabel('frequency',fontsize=12)\n",
    " plt.show()\n",
    "\n",
    "histo('release_year')"
   ]
  },
  {
   "cell_type": "markdown",
   "metadata": {},
   "source": [
    "### Question 1: What is the relationship in the figure"
   ]
  },
  {
   "cell_type": "code",
   "execution_count": 49,
   "metadata": {},
   "outputs": [
    {
     "name": "stdout",
     "output_type": "stream",
     "text": [
      "What is the relationship in the figure above? Is it positive correlation (enter 1), negative correlation (enter 2), or no correlation (enter 3)? \n"
     ]
    },
    {
     "ename": "ValueError",
     "evalue": "invalid literal for int() with base 10: ''",
     "output_type": "error",
     "traceback": [
      "\u001b[0;31m---------------------------------------------------------------------------\u001b[0m",
      "\u001b[0;31mValueError\u001b[0m                                Traceback (most recent call last)",
      "Cell \u001b[0;32mIn[49], line 1\u001b[0m\n\u001b[0;32m----> 1\u001b[0m q1 \u001b[38;5;241m=\u001b[39m \u001b[38;5;28;43mint\u001b[39;49m\u001b[43m(\u001b[49m\u001b[38;5;28;43minput\u001b[39;49m\u001b[43m(\u001b[49m\u001b[38;5;124;43m'\u001b[39;49m\u001b[38;5;124;43mWhat is the relationship in the figure above? Is it positive correlation (enter 1), negative correlation (enter 2), or no correlation (enter 3)? \u001b[39;49m\u001b[38;5;124;43m'\u001b[39;49m\u001b[43m)\u001b[49m\u001b[43m)\u001b[49m\n\u001b[1;32m      3\u001b[0m \u001b[38;5;28;01mif\u001b[39;00m q1 \u001b[38;5;241m==\u001b[39m \u001b[38;5;241m1\u001b[39m:\n\u001b[1;32m      4\u001b[0m     \u001b[38;5;28mprint\u001b[39m(\u001b[38;5;124m'\u001b[39m\u001b[38;5;124mCorrect!\u001b[39m\u001b[38;5;124m'\u001b[39m)\n",
      "\u001b[0;31mValueError\u001b[0m: invalid literal for int() with base 10: ''"
     ]
    }
   ],
   "source": [
    "q1 = int(input('What is the relationship in the figure above? Is it positive correlation (enter 1), negative correlation (enter 2), or no correlation (enter 3)? '))\n",
    "\n",
    "if q1 == 1:\n",
    "    print('Correct!')\n",
    "else:\n",
    "    print('Not correct')\n"
   ]
  },
  {
   "cell_type": "markdown",
   "metadata": {},
   "source": [
    "We can notice that in the histogram above the is positive correlation "
   ]
  },
  {
   "cell_type": "markdown",
   "metadata": {},
   "source": [
    "### Visualize the data by using box plot!"
   ]
  },
  {
   "cell_type": "code",
   "execution_count": 50,
   "metadata": {
    "scrolled": true
   },
   "outputs": [
    {
     "data": {
      "image/png": "[encoded data removed]",
      "text/plain": [
       "<Figure size 640x480 with 1 Axes>"
      ]
     },
     "metadata": {},
     "output_type": "display_data"
    }
   ],
   "source": [
    "df_mov['release_year'].plot(kind='box');"
   ]
  },
  {
   "cell_type": "markdown",
   "metadata": {},
   "source": [
    "We can notice that in the box plot above have min outliers"
   ]
  },
  {
   "cell_type": "markdown",
   "metadata": {},
   "source": [
    "### Research Question 2  (id)"
   ]
  },
  {
   "cell_type": "markdown",
   "metadata": {},
   "source": [
    "### Explore the data "
   ]
  },
  {
   "cell_type": "code",
   "execution_count": 51,
   "metadata": {
    "tags": []
   },
   "outputs": [
    {
     "data": {
      "text/html": [
       "<div>\n",
       "<style scoped>\n",
       "    .dataframe tbody tr th:only-of-type {\n",
       "        vertical-align: middle;\n",
       "    }\n",
       "\n",
       "    .dataframe tbody tr th {\n",
       "        vertical-align: top;\n",
       "    }\n",
       "\n",
       "    .dataframe thead th {\n",
       "        text-align: right;\n",
       "    }\n",
       "</style>\n",
       "<table border=\"1\" class=\"dataframe\">\n",
       "  <thead>\n",
       "    <tr style=\"text-align: right;\">\n",
       "      <th></th>\n",
       "      <th>popularity</th>\n",
       "      <th>budget</th>\n",
       "      <th>revenue</th>\n",
       "      <th>runtime</th>\n",
       "      <th>vote_count</th>\n",
       "      <th>vote_average</th>\n",
       "      <th>release_year</th>\n",
       "      <th>budget_adj</th>\n",
       "      <th>revenue_adj</th>\n",
       "    </tr>\n",
       "    <tr>\n",
       "      <th>id</th>\n",
       "      <th></th>\n",
       "      <th></th>\n",
       "      <th></th>\n",
       "      <th></th>\n",
       "      <th></th>\n",
       "      <th></th>\n",
       "      <th></th>\n",
       "      <th></th>\n",
       "      <th></th>\n",
       "    </tr>\n",
       "  </thead>\n",
       "  <tbody>\n",
       "    <tr>\n",
       "      <th>11</th>\n",
       "      <td>12.037933</td>\n",
       "      <td>11000000</td>\n",
       "      <td>775398007</td>\n",
       "      <td>121</td>\n",
       "      <td>4428</td>\n",
       "      <td>7.9</td>\n",
       "      <td>1977</td>\n",
       "      <td>3.957559e+07</td>\n",
       "      <td>2.789712e+09</td>\n",
       "    </tr>\n",
       "    <tr>\n",
       "      <th>12</th>\n",
       "      <td>3.440519</td>\n",
       "      <td>94000000</td>\n",
       "      <td>864625978</td>\n",
       "      <td>100</td>\n",
       "      <td>3692</td>\n",
       "      <td>7.4</td>\n",
       "      <td>2003</td>\n",
       "      <td>1.114231e+08</td>\n",
       "      <td>1.024887e+09</td>\n",
       "    </tr>\n",
       "    <tr>\n",
       "      <th>14</th>\n",
       "      <td>3.555720</td>\n",
       "      <td>15000000</td>\n",
       "      <td>356296601</td>\n",
       "      <td>122</td>\n",
       "      <td>1756</td>\n",
       "      <td>7.7</td>\n",
       "      <td>1999</td>\n",
       "      <td>1.963579e+07</td>\n",
       "      <td>4.664111e+08</td>\n",
       "    </tr>\n",
       "    <tr>\n",
       "      <th>17</th>\n",
       "      <td>0.546134</td>\n",
       "      <td>0</td>\n",
       "      <td>0</td>\n",
       "      <td>87</td>\n",
       "      <td>31</td>\n",
       "      <td>5.2</td>\n",
       "      <td>2006</td>\n",
       "      <td>0.000000e+00</td>\n",
       "      <td>0.000000e+00</td>\n",
       "    </tr>\n",
       "    <tr>\n",
       "      <th>22</th>\n",
       "      <td>6.864067</td>\n",
       "      <td>140000000</td>\n",
       "      <td>655011224</td>\n",
       "      <td>143</td>\n",
       "      <td>4223</td>\n",
       "      <td>7.3</td>\n",
       "      <td>2003</td>\n",
       "      <td>1.659494e+08</td>\n",
       "      <td>7.764193e+08</td>\n",
       "    </tr>\n",
       "  </tbody>\n",
       "</table>\n",
       "</div>"
      ],
      "text/plain": [
       "    popularity     budget    revenue  runtime  vote_count  vote_average  \\\n",
       "id                                                                        \n",
       "11   12.037933   11000000  775398007      121        4428           7.9   \n",
       "12    3.440519   94000000  864625978      100        3692           7.4   \n",
       "14    3.555720   15000000  356296601      122        1756           7.7   \n",
       "17    0.546134          0          0       87          31           5.2   \n",
       "22    6.864067  140000000  655011224      143        4223           7.3   \n",
       "\n",
       "    release_year    budget_adj   revenue_adj  \n",
       "id                                            \n",
       "11          1977  3.957559e+07  2.789712e+09  \n",
       "12          2003  1.114231e+08  1.024887e+09  \n",
       "14          1999  1.963579e+07  4.664111e+08  \n",
       "17          2006  0.000000e+00  0.000000e+00  \n",
       "22          2003  1.659494e+08  7.764193e+08  "
      ]
     },
     "execution_count": 51,
     "metadata": {},
     "output_type": "execute_result"
    }
   ],
   "source": [
    "# Continue to explore the data to address your additional research\n",
    "#   questions. Add more headers as needed if you have more questions to\n",
    "#   investigate.\n",
    "df_mov.groupby(by='id').sum(numeric_only=True).head()"
   ]
  },
  {
   "cell_type": "code",
   "execution_count": 52,
   "metadata": {},
   "outputs": [
    {
     "data": {
      "text/html": [
       "<div>\n",
       "<style scoped>\n",
       "    .dataframe tbody tr th:only-of-type {\n",
       "        vertical-align: middle;\n",
       "    }\n",
       "\n",
       "    .dataframe tbody tr th {\n",
       "        vertical-align: top;\n",
       "    }\n",
       "\n",
       "    .dataframe thead th {\n",
       "        text-align: right;\n",
       "    }\n",
       "</style>\n",
       "<table border=\"1\" class=\"dataframe\">\n",
       "  <thead>\n",
       "    <tr style=\"text-align: right;\">\n",
       "      <th></th>\n",
       "      <th>popularity</th>\n",
       "      <th>budget</th>\n",
       "      <th>revenue</th>\n",
       "      <th>runtime</th>\n",
       "      <th>vote_count</th>\n",
       "      <th>vote_average</th>\n",
       "      <th>release_year</th>\n",
       "      <th>budget_adj</th>\n",
       "      <th>revenue_adj</th>\n",
       "    </tr>\n",
       "    <tr>\n",
       "      <th>id</th>\n",
       "      <th></th>\n",
       "      <th></th>\n",
       "      <th></th>\n",
       "      <th></th>\n",
       "      <th></th>\n",
       "      <th></th>\n",
       "      <th></th>\n",
       "      <th></th>\n",
       "      <th></th>\n",
       "    </tr>\n",
       "  </thead>\n",
       "  <tbody>\n",
       "    <tr>\n",
       "      <th>11</th>\n",
       "      <td>12.037933</td>\n",
       "      <td>11000000.0</td>\n",
       "      <td>775398007.0</td>\n",
       "      <td>121.0</td>\n",
       "      <td>4428.0</td>\n",
       "      <td>7.9</td>\n",
       "      <td>1977.0</td>\n",
       "      <td>3.957559e+07</td>\n",
       "      <td>2.789712e+09</td>\n",
       "    </tr>\n",
       "    <tr>\n",
       "      <th>12</th>\n",
       "      <td>3.440519</td>\n",
       "      <td>94000000.0</td>\n",
       "      <td>864625978.0</td>\n",
       "      <td>100.0</td>\n",
       "      <td>3692.0</td>\n",
       "      <td>7.4</td>\n",
       "      <td>2003.0</td>\n",
       "      <td>1.114231e+08</td>\n",
       "      <td>1.024887e+09</td>\n",
       "    </tr>\n",
       "    <tr>\n",
       "      <th>14</th>\n",
       "      <td>3.555720</td>\n",
       "      <td>15000000.0</td>\n",
       "      <td>356296601.0</td>\n",
       "      <td>122.0</td>\n",
       "      <td>1756.0</td>\n",
       "      <td>7.7</td>\n",
       "      <td>1999.0</td>\n",
       "      <td>1.963579e+07</td>\n",
       "      <td>4.664111e+08</td>\n",
       "    </tr>\n",
       "    <tr>\n",
       "      <th>17</th>\n",
       "      <td>0.546134</td>\n",
       "      <td>0.0</td>\n",
       "      <td>0.0</td>\n",
       "      <td>87.0</td>\n",
       "      <td>31.0</td>\n",
       "      <td>5.2</td>\n",
       "      <td>2006.0</td>\n",
       "      <td>0.000000e+00</td>\n",
       "      <td>0.000000e+00</td>\n",
       "    </tr>\n",
       "    <tr>\n",
       "      <th>22</th>\n",
       "      <td>6.864067</td>\n",
       "      <td>140000000.0</td>\n",
       "      <td>655011224.0</td>\n",
       "      <td>143.0</td>\n",
       "      <td>4223.0</td>\n",
       "      <td>7.3</td>\n",
       "      <td>2003.0</td>\n",
       "      <td>1.659494e+08</td>\n",
       "      <td>7.764193e+08</td>\n",
       "    </tr>\n",
       "  </tbody>\n",
       "</table>\n",
       "</div>"
      ],
      "text/plain": [
       "    popularity       budget      revenue  runtime  vote_count  vote_average  \\\n",
       "id                                                                            \n",
       "11   12.037933   11000000.0  775398007.0    121.0      4428.0           7.9   \n",
       "12    3.440519   94000000.0  864625978.0    100.0      3692.0           7.4   \n",
       "14    3.555720   15000000.0  356296601.0    122.0      1756.0           7.7   \n",
       "17    0.546134          0.0          0.0     87.0        31.0           5.2   \n",
       "22    6.864067  140000000.0  655011224.0    143.0      4223.0           7.3   \n",
       "\n",
       "    release_year    budget_adj   revenue_adj  \n",
       "id                                            \n",
       "11        1977.0  3.957559e+07  2.789712e+09  \n",
       "12        2003.0  1.114231e+08  1.024887e+09  \n",
       "14        1999.0  1.963579e+07  4.664111e+08  \n",
       "17        2006.0  0.000000e+00  0.000000e+00  \n",
       "22        2003.0  1.659494e+08  7.764193e+08  "
      ]
     },
     "execution_count": 52,
     "metadata": {},
     "output_type": "execute_result"
    }
   ],
   "source": [
    "df_mov.groupby(by=\"id\").mean(numeric_only=True).head()"
   ]
  },
  {
   "cell_type": "code",
   "execution_count": 53,
   "metadata": {
    "scrolled": true
   },
   "outputs": [
    {
     "data": {
      "text/html": [
       "<div>\n",
       "<style scoped>\n",
       "    .dataframe tbody tr th:only-of-type {\n",
       "        vertical-align: middle;\n",
       "    }\n",
       "\n",
       "    .dataframe tbody tr th {\n",
       "        vertical-align: top;\n",
       "    }\n",
       "\n",
       "    .dataframe thead th {\n",
       "        text-align: right;\n",
       "    }\n",
       "</style>\n",
       "<table border=\"1\" class=\"dataframe\">\n",
       "  <thead>\n",
       "    <tr style=\"text-align: right;\">\n",
       "      <th></th>\n",
       "      <th>popularity</th>\n",
       "      <th>budget</th>\n",
       "      <th>revenue</th>\n",
       "      <th>runtime</th>\n",
       "      <th>vote_count</th>\n",
       "      <th>vote_average</th>\n",
       "      <th>release_year</th>\n",
       "      <th>budget_adj</th>\n",
       "      <th>revenue_adj</th>\n",
       "    </tr>\n",
       "    <tr>\n",
       "      <th>id</th>\n",
       "      <th></th>\n",
       "      <th></th>\n",
       "      <th></th>\n",
       "      <th></th>\n",
       "      <th></th>\n",
       "      <th></th>\n",
       "      <th></th>\n",
       "      <th></th>\n",
       "      <th></th>\n",
       "    </tr>\n",
       "  </thead>\n",
       "  <tbody>\n",
       "    <tr>\n",
       "      <th>11</th>\n",
       "      <td>12.037933</td>\n",
       "      <td>11000000.0</td>\n",
       "      <td>775398007.0</td>\n",
       "      <td>121.0</td>\n",
       "      <td>4428.0</td>\n",
       "      <td>7.9</td>\n",
       "      <td>1977.0</td>\n",
       "      <td>3.957559e+07</td>\n",
       "      <td>2.789712e+09</td>\n",
       "    </tr>\n",
       "    <tr>\n",
       "      <th>12</th>\n",
       "      <td>3.440519</td>\n",
       "      <td>94000000.0</td>\n",
       "      <td>864625978.0</td>\n",
       "      <td>100.0</td>\n",
       "      <td>3692.0</td>\n",
       "      <td>7.4</td>\n",
       "      <td>2003.0</td>\n",
       "      <td>1.114231e+08</td>\n",
       "      <td>1.024887e+09</td>\n",
       "    </tr>\n",
       "    <tr>\n",
       "      <th>14</th>\n",
       "      <td>3.555720</td>\n",
       "      <td>15000000.0</td>\n",
       "      <td>356296601.0</td>\n",
       "      <td>122.0</td>\n",
       "      <td>1756.0</td>\n",
       "      <td>7.7</td>\n",
       "      <td>1999.0</td>\n",
       "      <td>1.963579e+07</td>\n",
       "      <td>4.664111e+08</td>\n",
       "    </tr>\n",
       "    <tr>\n",
       "      <th>17</th>\n",
       "      <td>0.546134</td>\n",
       "      <td>0.0</td>\n",
       "      <td>0.0</td>\n",
       "      <td>87.0</td>\n",
       "      <td>31.0</td>\n",
       "      <td>5.2</td>\n",
       "      <td>2006.0</td>\n",
       "      <td>0.000000e+00</td>\n",
       "      <td>0.000000e+00</td>\n",
       "    </tr>\n",
       "    <tr>\n",
       "      <th>22</th>\n",
       "      <td>6.864067</td>\n",
       "      <td>140000000.0</td>\n",
       "      <td>655011224.0</td>\n",
       "      <td>143.0</td>\n",
       "      <td>4223.0</td>\n",
       "      <td>7.3</td>\n",
       "      <td>2003.0</td>\n",
       "      <td>1.659494e+08</td>\n",
       "      <td>7.764193e+08</td>\n",
       "    </tr>\n",
       "  </tbody>\n",
       "</table>\n",
       "</div>"
      ],
      "text/plain": [
       "    popularity       budget      revenue  runtime  vote_count  vote_average  \\\n",
       "id                                                                            \n",
       "11   12.037933   11000000.0  775398007.0    121.0      4428.0           7.9   \n",
       "12    3.440519   94000000.0  864625978.0    100.0      3692.0           7.4   \n",
       "14    3.555720   15000000.0  356296601.0    122.0      1756.0           7.7   \n",
       "17    0.546134          0.0          0.0     87.0        31.0           5.2   \n",
       "22    6.864067  140000000.0  655011224.0    143.0      4223.0           7.3   \n",
       "\n",
       "    release_year    budget_adj   revenue_adj  \n",
       "id                                            \n",
       "11        1977.0  3.957559e+07  2.789712e+09  \n",
       "12        2003.0  1.114231e+08  1.024887e+09  \n",
       "14        1999.0  1.963579e+07  4.664111e+08  \n",
       "17        2006.0  0.000000e+00  0.000000e+00  \n",
       "22        2003.0  1.659494e+08  7.764193e+08  "
      ]
     },
     "execution_count": 53,
     "metadata": {},
     "output_type": "execute_result"
    }
   ],
   "source": [
    "df_mov.groupby(by=\"id\").median(numeric_only=True).head()"
   ]
  },
  {
   "cell_type": "markdown",
   "metadata": {},
   "source": [
    "### Visualize the data by using histogram!"
   ]
  },
  {
   "cell_type": "code",
   "execution_count": 47,
   "metadata": {
    "scrolled": true
   },
   "outputs": [
    {
     "data": {
      "image/png": "[encoded data removed]",
      "text/plain": [
       "<Figure size 800x600 with 1 Axes>"
      ]
     },
     "metadata": {},
     "output_type": "display_data"
    }
   ],
   "source": [
    "\n",
    "def histo2(args):\n",
    " df_mov[args].hist(figsize=(8,6))\n",
    " plt.title('Frequency of the ID',fontsize=12)\n",
    " plt.xlabel( args ,fontsize=12)\n",
    " plt.ylabel('frequency',fontsize=12)\n",
    " plt.show()\n",
    "\n",
    "histo2('id')"
   ]
  },
  {
   "cell_type": "markdown",
   "metadata": {},
   "source": [
    "We can notice that in the histogram above the is negitive correlation "
   ]
  },
  {
   "cell_type": "markdown",
   "metadata": {},
   "source": [
    "### Visualize the data by using box plot!"
   ]
  },
  {
   "cell_type": "code",
   "execution_count": 262,
   "metadata": {},
   "outputs": [
    {
     "data": {
      "image/png": "[encoded data removed]",
      "text/plain": [
       "<Figure size 640x480 with 1 Axes>"
      ]
     },
     "metadata": {},
     "output_type": "display_data"
    }
   ],
   "source": [
    "df_mov['id'].plot(kind='box');"
   ]
  },
  {
   "cell_type": "markdown",
   "metadata": {},
   "source": [
    "### Question 2: does the box plot above have outliers ?"
   ]
  },
  {
   "cell_type": "code",
   "execution_count": 14,
   "metadata": {},
   "outputs": [
    {
     "name": "stdout",
     "output_type": "stream",
     "text": [
      "What is the relationship in the figure above? Is it max outliers (enter 1), min outliers (enter 2), or no outliers (enter 3)? 32\n",
      "Not correct\n"
     ]
    }
   ],
   "source": [
    "q2 = int(input('What is the relationship in the figure above? Is it max outliers (enter 1), min outliers (enter 2), or no outliers (enter 3)? '))\n",
    "\n",
    "if q2 == 1:\n",
    "    print('Correct!')\n",
    "else:\n",
    "    print('Not correct')\n"
   ]
  },
  {
   "cell_type": "markdown",
   "metadata": {},
   "source": [
    "We can notice that in the box plot above have max outliers"
   ]
  },
  {
   "cell_type": "markdown",
   "metadata": {},
   "source": [
    "### Relationship between 'id' and 'release_year' using histogram"
   ]
  },
  {
   "cell_type": "code",
   "execution_count": 55,
   "metadata": {
    "scrolled": true
   },
   "outputs": [
    {
     "data": {
      "image/png": "[encoded data removed]",
      "text/plain": [
       "<Figure size 640x480 with 1 Axes>"
      ]
     },
     "metadata": {},
     "output_type": "display_data"
    }
   ],
   "source": [
    "df_mov[['id','release_year']].plot(kind='hist');\n",
    "plt.title('Relationship between id and release_year using histogram');\n",
    "plt.xlabel('id');\n",
    "plt.ylabel('release_year');"
   ]
  },
  {
   "cell_type": "markdown",
   "metadata": {},
   "source": [
    "### Relationship between 'id' and 'release_year' using scatter plot"
   ]
  },
  {
   "cell_type": "code",
   "execution_count": 50,
   "metadata": {},
   "outputs": [
    {
     "data": {
      "image/png": "[encoded data removed]",
      "text/plain": [
       "<Figure size 640x480 with 1 Axes>"
      ]
     },
     "metadata": {},
     "output_type": "display_data"
    }
   ],
   "source": [
    "df_mov.plot(x='release_year',y='id',kind='scatter');"
   ]
  },
  {
   "cell_type": "markdown",
   "metadata": {},
   "source": [
    "<a id='conclusions'></a>\n",
    "## Conclusions\n",
    "\n",
    "> **Tip**: Finally, summarize your findings and the results that have been performed in relation to the question(s) provided at the beginning of the analysis. Summarize the results accurately, and point out where additional research can be done or where additional information could be useful.\n",
    "\n",
    "> **Tip**: Make sure that you are clear with regards to the limitations of your exploration. You should have at least 1 limitation explained clearly. \n",
    "\n",
    "> **Tip**: If you haven't done any statistical tests, do not imply any statistical conclusions. And make sure you avoid implying causation from correlation!\n",
    "\n",
    "> **Tip**: Once you are satisfied with your work here, check over your report to make sure that it is satisfies all the areas of the rubric (found on the project submission page at the end of the lesson). You should also probably remove all of the \"Tips\" like this one so that the presentation is as polished as possible.\n",
    "\n",
    "## Submitting your Project \n",
    "\n",
    "> **Tip**: Before you submit your project, you need to create a .html or .pdf version of this notebook in the workspace here. To do that, run the code cell below. If it worked correctly, you should see output that starts with `NbConvertApp] Converting notebook`, and you should see the generated .html file in the workspace directory (click on the orange Jupyter icon in the upper left).\n",
    "\n",
    "> **Tip**: Alternatively, you can download this report as .html via the **File** > **Download as** submenu, and then manually upload it into the workspace directory by clicking on the orange Jupyter icon in the upper left, then using the Upload button.\n",
    "\n",
    "> **Tip**: Once you've done this, you can submit your project by clicking on the \"Submit Project\" button in the lower right here. This will create and submit a zip file with this .ipynb doc and the .html or .pdf version you created. Congratulations!"
   ]
  },
  {
   "cell_type": "markdown",
   "metadata": {},
   "source": [
    "## Conclusion:\n",
    "\n",
    "In this project, I acquired essential techniques for data cleaning, such as handling duplicates, changing data types, and addressing null values. I also gained valuable insights into data exploration using functions like describe() and groupby(). Moreover, I honed my ability to convey insights through statistical visualizations like histograms, scatter plots, and box plots. It is worth noting that due to limited data availability, the analysis may be influenced. I want to express my sincere gratitude to the Udacity staff for their invaluable guidance and support throughout this learning journey."
   ]
  },
  {
   "cell_type": "code",
   "execution_count": 57,
   "metadata": {
    "tags": []
   },
   "outputs": [
    {
     "name": "stdout",
     "output_type": "stream",
     "text": [
      "[NbConvertApp] Converting notebook Investigate_a_Dataset.ipynb to html\n",
      "[NbConvertApp] Writing 821270 bytes to Investigate_a_Dataset.html\n"
     ]
    }
   ],
   "source": [
    "# Running this cell will execute a bash command to convert this notebook to an .html file\n",
    "!python -m nbconvert --to html Investigate_a_Dataset.ipynb"
   ]
  }
 ],
 "metadata": {
  "kernelspec": {
   "display_name": "Python 3 (ipykernel)",
   "language": "python",
   "name": "python3"
  },
  "language_info": {
   "codemirror_mode": {
    "name": "ipython",
    "version": 3
   },
   "file_extension": ".py",
   "mimetype": "text/x-python",
   "name": "python",
   "nbconvert_exporter": "python",
   "pygments_lexer": "ipython3",
   "version": "3.10.10"
  }
 },
 "nbformat": 4,
 "nbformat_minor": 4
}
